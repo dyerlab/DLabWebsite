{
  "cells": [
    {
      "cell_type": "raw",
      "metadata": {},
      "source": [
        "---\n",
        "title: \"ddRADSeq Demultiplexing\"\n",
        "editor: visual\n",
        "date: \"2022-10-05\"\n",
        "image: featured.png\n",
        "execute:\n",
        "  eval: false\n",
        "description: |\n",
        "  Setting up the workflow for processing ddRADSeq can be a total pain in the ass.  Here is how I was able to do this on a HPC installation at my university with the least amount of pain.\n",
        "---"
      ],
      "id": "22baabfe"
    },
    {
      "cell_type": "markdown",
      "metadata": {},
      "source": [
        "# Getting Components\n",
        "\n",
        "Your sequencing facility will let you provide to you a ftp link to download compressed fasta files (ending in `.fa.gz` in my case). We are getting these data in raw form and will do own own demultiplexing and creating a *de novo* assembly from which to call SNPs.\n",
        "\n",
        "## Setting up SSH\n",
        "\n",
        "One pain point in doing this is that you'll have to do all the work on a remote server and logging in each time can lead to a pain point (because *you are* using unique, long, and complicated passwords for each of your accounts, right?).\n",
        "\n",
        "To overcome this, set up your\n",
        "\n",
        "```{}\n",
        "rodney@Rodneys-Mac-Studio ~ % ls .ssh/id*.pub\n",
        ".ssh/id_rsa.pub\n",
        "```\n",
        "\n",
        "## Screen\n",
        "\n",
        "Doing anything with this large amount of data will take time. It is good to remember that the vast majority of what you'll be working with is actually stuff you are going to throw away in the end anyways. That being said, our first main tool will be `screen`. This is a program that allows you to create a \"sub shell\" for a process, do something that is going to take a long time, log out of the shell and continue on your daily routine. Then, at various times in the near (or distant) future, you can log back in and see how things are going.\n",
        "\n",
        "You can run screen on your machine or on the remote server where things are happening. I'm going to run it on the other end.\n",
        "\n",
        "\n",
        "```{bash}\n",
        "screen --help \n",
        "```"
      ],
      "id": "8f75ada4"
    }
  ],
  "metadata": {
    "kernelspec": {
      "display_name": "Python 3",
      "language": "python",
      "name": "python3"
    }
  },
  "nbformat": 4,
  "nbformat_minor": 5
}