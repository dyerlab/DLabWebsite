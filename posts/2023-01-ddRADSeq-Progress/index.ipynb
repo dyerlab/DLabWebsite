{
  "cells": [
    {
      "cell_type": "raw",
      "metadata": {},
      "source": [
        "---\n",
        "title: \"Map of Content for ddRADSeq Project\"\n",
        "date: \"2023-01-15\"\n",
        "execute:\n",
        "  eval: false\n",
        "description: | \n",
        "  This is an ongoing summary of progress on the ddRADSeq project.\n",
        "---"
      ],
      "id": "2e0cf253"
    },
    {
      "cell_type": "markdown",
      "metadata": {},
      "source": [
        "## Progress\n",
        "\n",
        "The following logs document the initial attempts at implementing the [dDocent](https://www.ddocent.com) workflow for processing NovoSEQ data on the spotted turtle.\n",
        "\n",
        "- [Demultiplexing](/posts/2022-10-05-ddradseq) is the process of taking all \n",
        "- The [first run]() of [dDocent]() crashed almost immediately.\n",
        "- [Second Run of dDocent] - Crashed.\n",
        "- So, given the crashes thus far, it is apparent that we need to [right-size](/posts/2023-01-12-right-sizing-sequences/) the data *first* to make the \n",
        "\n",
        "\n",
        "- [Third Run of dDocent with Reduced 10% sequences]\n",
        "- [Run of dDocent with Reduced 2.5% sequences]\n",
        "\n",
        "### All Individual Runs - Long time but OK.\n",
        "- [dDocent All Individuals 2.5%] - Finished with 7k contigs\n",
        "- [dDocent All Individuals 5%] - Finished with 58k contigs\n",
        "- [dDocent All Individuals 10%] - Finished with 400k contigs\n",
        "\n",
        "### Mapping of Individuals\n",
        "\n",
        "So to now map the individual sequences onto the assemblies, I decided to go with the smallest assembly, 6,678 contigs, and map individual and call SNP's.\n",
        "\n",
        "- [Mapping of SNPs - Full Data] Taking an average of 10.3 hours per sample.\n",
        "- [Mapping of SNPs - 5% coverage, 7000 contigs]\n",
        "\t- Taking an average of 0.56 hours per sample\n",
        "\t- [Mapping of SNPs 5%, 7000 contigs, Dual Processor]\n",
        "\n",
        "\n",
        "## Segmented Mapping\n",
        "\n",
        "So I started up a single process to map and call SNPs.  It took a \n",
        "\n",
        "\n",
        "```{bash}\n",
        "srun --nodes=1 --mem=16G --export=ALL -J mapX --pty /bin/bash\n",
        "```"
      ],
      "id": "8f7254ce"
    }
  ],
  "metadata": {
    "kernelspec": {
      "display_name": "Python 3",
      "language": "python",
      "name": "python3"
    }
  },
  "nbformat": 4,
  "nbformat_minor": 5
}